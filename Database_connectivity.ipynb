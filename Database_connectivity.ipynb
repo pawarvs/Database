{
 "cells": [
  {
   "cell_type": "markdown",
   "id": "8f7620db",
   "metadata": {},
   "source": [
    "#### MYSQL-Database"
   ]
  },
  {
   "cell_type": "code",
   "execution_count": null,
   "id": "6de721b7",
   "metadata": {},
   "outputs": [],
   "source": [
    "#First we need to install mysql connector of python, to run database quries."
   ]
  },
  {
   "cell_type": "code",
   "execution_count": 1,
   "id": "9f69cedf",
   "metadata": {},
   "outputs": [
    {
     "name": "stdout",
     "output_type": "stream",
     "text": [
      "Requirement already satisfied: mysql-connector-python in c:\\users\\svish\\anaconda3\\lib\\site-packages (8.0.29)\n",
      "Requirement already satisfied: protobuf>=3.0.0 in c:\\users\\svish\\anaconda3\\lib\\site-packages (from mysql-connector-python) (4.21.5)\n"
     ]
    }
   ],
   "source": [
    "!pip install mysql-connector-python"
   ]
  },
  {
   "cell_type": "code",
   "execution_count": 28,
   "id": "7e45edf0",
   "metadata": {},
   "outputs": [],
   "source": [
    "# import mysql.connector as connection\n",
    "\n",
    "# try :\n",
    "#     mydb = connection.connect(host = \"localhost\",user = \"root\",passwd = \"Vishal@9850\",use_pure = True )\n",
    "\n",
    "#     #check if the connection is established\n",
    "\n",
    "#     query = \"SHOW DATABASES\"\n",
    "#     cursor = mydb.cursor()\n",
    "#     cursor.execute(query)\n",
    "#     print(cursor.fetchall())\n",
    "\n",
    "# except Exception as e:\n",
    "#     mydb.close()\n",
    "#     print(str(e))\n"
   ]
  },
  {
   "cell_type": "code",
   "execution_count": 1,
   "id": "00c98a6b",
   "metadata": {},
   "outputs": [
    {
     "name": "stdout",
     "output_type": "stream",
     "text": [
      "[('cricket_analysis',), ('ineuron',), ('information_schema',), ('lco_users',), ('mydatabase',), ('mysql',), ('performance_schema',), ('photo_store',), ('sakila',), ('sample',), ('sys',), ('training',)]\n"
     ]
    }
   ],
   "source": [
    "import mysql.connector as connection\n",
    "mydb = connection.connect(host = \"localhost\",user = \"root\",passwd = \"Vishal@9850\",use_pure = True )\n",
    "cursor = mydb.cursor()\n",
    "cursor.execute(\"show databases\")\n",
    "print(cursor.fetchall())"
   ]
  },
  {
   "cell_type": "code",
   "execution_count": 38,
   "id": "c4c7ffc6",
   "metadata": {},
   "outputs": [],
   "source": [
    "mydb.commit()\n",
    "cursor = mydb.cursor()"
   ]
  },
  {
   "cell_type": "code",
   "execution_count": 2,
   "id": "c2aa3f62",
   "metadata": {},
   "outputs": [],
   "source": [
    "cursor.execute(\"use lco_users\")\n",
    "mydb.commit()"
   ]
  },
  {
   "cell_type": "code",
   "execution_count": 4,
   "id": "90db2656",
   "metadata": {},
   "outputs": [
    {
     "name": "stdout",
     "output_type": "stream",
     "text": [
      "[('customers',), ('mydata1',), ('students',)]\n"
     ]
    }
   ],
   "source": [
    "cursor = mydb.cursor()\n",
    "cursor.execute(\"show tables\")\n",
    "print(cursor.fetchall())"
   ]
  },
  {
   "cell_type": "markdown",
   "id": "06a473f9",
   "metadata": {},
   "source": [
    "#### To check whether the database is connected or not."
   ]
  },
  {
   "cell_type": "code",
   "execution_count": 6,
   "id": "a39a0037",
   "metadata": {},
   "outputs": [
    {
     "data": {
      "text/plain": [
       "True"
      ]
     },
     "execution_count": 6,
     "metadata": {},
     "output_type": "execute_result"
    }
   ],
   "source": [
    "mydb = connection.connect(host = \"localhost\",database = 'lco_users',user = \"root\",passwd = \"Vishal@9850\",use_pure = True )\n",
    "mydb.is_connected()"
   ]
  },
  {
   "cell_type": "markdown",
   "id": "5598f128",
   "metadata": {},
   "source": [
    "#### Using pandas library to show data in the format of dataframe"
   ]
  },
  {
   "cell_type": "code",
   "execution_count": 8,
   "id": "ed000f5d",
   "metadata": {},
   "outputs": [],
   "source": [
    "import pandas as pd"
   ]
  },
  {
   "cell_type": "code",
   "execution_count": null,
   "id": "1c1f895a",
   "metadata": {},
   "outputs": [],
   "source": []
  },
  {
   "cell_type": "code",
   "execution_count": 9,
   "id": "baf5b379",
   "metadata": {},
   "outputs": [
    {
     "data": {
      "text/html": [
       "<div>\n",
       "<style scoped>\n",
       "    .dataframe tbody tr th:only-of-type {\n",
       "        vertical-align: middle;\n",
       "    }\n",
       "\n",
       "    .dataframe tbody tr th {\n",
       "        vertical-align: top;\n",
       "    }\n",
       "\n",
       "    .dataframe thead th {\n",
       "        text-align: right;\n",
       "    }\n",
       "</style>\n",
       "<table border=\"1\" class=\"dataframe\">\n",
       "  <thead>\n",
       "    <tr style=\"text-align: right;\">\n",
       "      <th></th>\n",
       "      <th>cust_id</th>\n",
       "      <th>first_name</th>\n",
       "      <th>last_name</th>\n",
       "      <th>age</th>\n",
       "      <th>cust_email</th>\n",
       "    </tr>\n",
       "  </thead>\n",
       "  <tbody>\n",
       "    <tr>\n",
       "      <th>0</th>\n",
       "      <td>1</td>\n",
       "      <td>Raj</td>\n",
       "      <td>Kumar</td>\n",
       "      <td>25</td>\n",
       "      <td>raj@gmail.com</td>\n",
       "    </tr>\n",
       "    <tr>\n",
       "      <th>1</th>\n",
       "      <td>2</td>\n",
       "      <td>Radhe</td>\n",
       "      <td>Tuwar</td>\n",
       "      <td>5</td>\n",
       "      <td>radhe@gmail.com</td>\n",
       "    </tr>\n",
       "    <tr>\n",
       "      <th>2</th>\n",
       "      <td>3</td>\n",
       "      <td>Sham</td>\n",
       "      <td>None</td>\n",
       "      <td>20</td>\n",
       "      <td>raj@gmail.com</td>\n",
       "    </tr>\n",
       "    <tr>\n",
       "      <th>3</th>\n",
       "      <td>4</td>\n",
       "      <td>Abhi</td>\n",
       "      <td>Jadhav</td>\n",
       "      <td>18</td>\n",
       "      <td>jabgis@gmail.com</td>\n",
       "    </tr>\n",
       "    <tr>\n",
       "      <th>4</th>\n",
       "      <td>5</td>\n",
       "      <td>Akki</td>\n",
       "      <td>Parmar</td>\n",
       "      <td>20</td>\n",
       "      <td>akki12@gmail.com</td>\n",
       "    </tr>\n",
       "    <tr>\n",
       "      <th>5</th>\n",
       "      <td>6</td>\n",
       "      <td>Pyare</td>\n",
       "      <td>Mohan</td>\n",
       "      <td>28</td>\n",
       "      <td>pmohan@gmail.com</td>\n",
       "    </tr>\n",
       "  </tbody>\n",
       "</table>\n",
       "</div>"
      ],
      "text/plain": [
       "   cust_id first_name last_name  age        cust_email\n",
       "0        1        Raj     Kumar   25     raj@gmail.com\n",
       "1        2      Radhe     Tuwar    5   radhe@gmail.com\n",
       "2        3       Sham      None   20     raj@gmail.com\n",
       "3        4       Abhi    Jadhav   18  jabgis@gmail.com\n",
       "4        5       Akki    Parmar   20  akki12@gmail.com\n",
       "5        6      Pyare     Mohan   28  pmohan@gmail.com"
      ]
     },
     "execution_count": 9,
     "metadata": {},
     "output_type": "execute_result"
    }
   ],
   "source": [
    "cursor = mydb.cursor()\n",
    "pd.read_sql(\"select * from customers\",mydb)"
   ]
  },
  {
   "cell_type": "code",
   "execution_count": 13,
   "id": "7824f852",
   "metadata": {},
   "outputs": [
    {
     "data": {
      "text/html": [
       "<div>\n",
       "<style scoped>\n",
       "    .dataframe tbody tr th:only-of-type {\n",
       "        vertical-align: middle;\n",
       "    }\n",
       "\n",
       "    .dataframe tbody tr th {\n",
       "        vertical-align: top;\n",
       "    }\n",
       "\n",
       "    .dataframe thead th {\n",
       "        text-align: right;\n",
       "    }\n",
       "</style>\n",
       "<table border=\"1\" class=\"dataframe\">\n",
       "  <thead>\n",
       "    <tr style=\"text-align: right;\">\n",
       "      <th></th>\n",
       "      <th>Field</th>\n",
       "      <th>Type</th>\n",
       "      <th>Null</th>\n",
       "      <th>Key</th>\n",
       "      <th>Default</th>\n",
       "      <th>Extra</th>\n",
       "    </tr>\n",
       "  </thead>\n",
       "  <tbody>\n",
       "    <tr>\n",
       "      <th>0</th>\n",
       "      <td>id</td>\n",
       "      <td>b'int'</td>\n",
       "      <td>NO</td>\n",
       "      <td>PRI</td>\n",
       "      <td>None</td>\n",
       "      <td>auto_increment</td>\n",
       "    </tr>\n",
       "    <tr>\n",
       "      <th>1</th>\n",
       "      <td>email</td>\n",
       "      <td>b'varchar(60)'</td>\n",
       "      <td>YES</td>\n",
       "      <td></td>\n",
       "      <td>None</td>\n",
       "      <td></td>\n",
       "    </tr>\n",
       "    <tr>\n",
       "      <th>2</th>\n",
       "      <td>first_name</td>\n",
       "      <td>b'varchar(50)'</td>\n",
       "      <td>YES</td>\n",
       "      <td></td>\n",
       "      <td>None</td>\n",
       "      <td></td>\n",
       "    </tr>\n",
       "    <tr>\n",
       "      <th>3</th>\n",
       "      <td>last_name</td>\n",
       "      <td>b'varchar(50)'</td>\n",
       "      <td>YES</td>\n",
       "      <td></td>\n",
       "      <td>None</td>\n",
       "      <td></td>\n",
       "    </tr>\n",
       "    <tr>\n",
       "      <th>4</th>\n",
       "      <td>login_count</td>\n",
       "      <td>b'int'</td>\n",
       "      <td>YES</td>\n",
       "      <td></td>\n",
       "      <td>None</td>\n",
       "      <td></td>\n",
       "    </tr>\n",
       "    <tr>\n",
       "      <th>5</th>\n",
       "      <td>course_count</td>\n",
       "      <td>b'int'</td>\n",
       "      <td>YES</td>\n",
       "      <td></td>\n",
       "      <td>None</td>\n",
       "      <td></td>\n",
       "    </tr>\n",
       "    <tr>\n",
       "      <th>6</th>\n",
       "      <td>signup_month</td>\n",
       "      <td>b'varchar(20)'</td>\n",
       "      <td>YES</td>\n",
       "      <td></td>\n",
       "      <td>None</td>\n",
       "      <td></td>\n",
       "    </tr>\n",
       "  </tbody>\n",
       "</table>\n",
       "</div>"
      ],
      "text/plain": [
       "          Field            Type Null  Key Default           Extra\n",
       "0            id          b'int'   NO  PRI    None  auto_increment\n",
       "1         email  b'varchar(60)'  YES         None                \n",
       "2    first_name  b'varchar(50)'  YES         None                \n",
       "3     last_name  b'varchar(50)'  YES         None                \n",
       "4   login_count          b'int'  YES         None                \n",
       "5  course_count          b'int'  YES         None                \n",
       "6  signup_month  b'varchar(20)'  YES         None                "
      ]
     },
     "execution_count": 13,
     "metadata": {},
     "output_type": "execute_result"
    }
   ],
   "source": [
    "mydb.commit()\n",
    "cursor = mydb.cursor()\n",
    "#cursor.execute('DESC students')\n",
    "pd.read_sql('DESC students',mydb)\n",
    "#print(cursor.fetchall())"
   ]
  },
  {
   "cell_type": "code",
   "execution_count": 14,
   "id": "144498d6",
   "metadata": {},
   "outputs": [
    {
     "data": {
      "text/html": [
       "<div>\n",
       "<style scoped>\n",
       "    .dataframe tbody tr th:only-of-type {\n",
       "        vertical-align: middle;\n",
       "    }\n",
       "\n",
       "    .dataframe tbody tr th {\n",
       "        vertical-align: top;\n",
       "    }\n",
       "\n",
       "    .dataframe thead th {\n",
       "        text-align: right;\n",
       "    }\n",
       "</style>\n",
       "<table border=\"1\" class=\"dataframe\">\n",
       "  <thead>\n",
       "    <tr style=\"text-align: right;\">\n",
       "      <th></th>\n",
       "      <th>Field</th>\n",
       "      <th>Type</th>\n",
       "      <th>Null</th>\n",
       "      <th>Key</th>\n",
       "      <th>Default</th>\n",
       "      <th>Extra</th>\n",
       "    </tr>\n",
       "  </thead>\n",
       "  <tbody>\n",
       "    <tr>\n",
       "      <th>0</th>\n",
       "      <td>id</td>\n",
       "      <td>b'int'</td>\n",
       "      <td>YES</td>\n",
       "      <td></td>\n",
       "      <td>None</td>\n",
       "      <td></td>\n",
       "    </tr>\n",
       "    <tr>\n",
       "      <th>1</th>\n",
       "      <td>emailid</td>\n",
       "      <td>b'varchar(20)'</td>\n",
       "      <td>YES</td>\n",
       "      <td></td>\n",
       "      <td>None</td>\n",
       "      <td></td>\n",
       "    </tr>\n",
       "    <tr>\n",
       "      <th>2</th>\n",
       "      <td>f_name</td>\n",
       "      <td>b'varchar(10)'</td>\n",
       "      <td>YES</td>\n",
       "      <td></td>\n",
       "      <td>None</td>\n",
       "      <td></td>\n",
       "    </tr>\n",
       "    <tr>\n",
       "      <th>3</th>\n",
       "      <td>l_name</td>\n",
       "      <td>b'varchar(20)'</td>\n",
       "      <td>YES</td>\n",
       "      <td></td>\n",
       "      <td>None</td>\n",
       "      <td></td>\n",
       "    </tr>\n",
       "    <tr>\n",
       "      <th>4</th>\n",
       "      <td>l_count</td>\n",
       "      <td>b'int'</td>\n",
       "      <td>YES</td>\n",
       "      <td></td>\n",
       "      <td>None</td>\n",
       "      <td></td>\n",
       "    </tr>\n",
       "    <tr>\n",
       "      <th>5</th>\n",
       "      <td>c_count</td>\n",
       "      <td>b'int'</td>\n",
       "      <td>YES</td>\n",
       "      <td></td>\n",
       "      <td>None</td>\n",
       "      <td></td>\n",
       "    </tr>\n",
       "    <tr>\n",
       "      <th>6</th>\n",
       "      <td>s_month</td>\n",
       "      <td>b'varchar(20)'</td>\n",
       "      <td>YES</td>\n",
       "      <td></td>\n",
       "      <td>None</td>\n",
       "      <td></td>\n",
       "    </tr>\n",
       "  </tbody>\n",
       "</table>\n",
       "</div>"
      ],
      "text/plain": [
       "     Field            Type Null Key Default Extra\n",
       "0       id          b'int'  YES        None      \n",
       "1  emailid  b'varchar(20)'  YES        None      \n",
       "2   f_name  b'varchar(10)'  YES        None      \n",
       "3   l_name  b'varchar(20)'  YES        None      \n",
       "4  l_count          b'int'  YES        None      \n",
       "5  c_count          b'int'  YES        None      \n",
       "6  s_month  b'varchar(20)'  YES        None      "
      ]
     },
     "execution_count": 14,
     "metadata": {},
     "output_type": "execute_result"
    }
   ],
   "source": [
    "pd.read_sql('DESC mydata1',mydb)"
   ]
  },
  {
   "cell_type": "code",
   "execution_count": 17,
   "id": "e77833f2",
   "metadata": {},
   "outputs": [],
   "source": [
    "# mydb.commit()\n",
    "# cursor = mydb.cursor()\n",
    "# cursor.execute('drop table mydata1')\n",
    "# mydb.close()"
   ]
  },
  {
   "cell_type": "code",
   "execution_count": 18,
   "id": "d5b3e22c",
   "metadata": {},
   "outputs": [
    {
     "name": "stdout",
     "output_type": "stream",
     "text": [
      "[('customers',), ('students',)]\n"
     ]
    }
   ],
   "source": [
    "mydb = connection.connect(host = \"localhost\",database = 'lco_users',user = \"root\",passwd = \"Vishal@9850\",use_pure = True )\n",
    "cursor = mydb.cursor()\n",
    "cursor.execute('show tables')\n",
    "print(cursor.fetchall())"
   ]
  },
  {
   "cell_type": "code",
   "execution_count": null,
   "id": "2ee87c67",
   "metadata": {},
   "outputs": [],
   "source": []
  }
 ],
 "metadata": {
  "kernelspec": {
   "display_name": "Python 3 (ipykernel)",
   "language": "python",
   "name": "python3"
  },
  "language_info": {
   "codemirror_mode": {
    "name": "ipython",
    "version": 3
   },
   "file_extension": ".py",
   "mimetype": "text/x-python",
   "name": "python",
   "nbconvert_exporter": "python",
   "pygments_lexer": "ipython3",
   "version": "3.9.7"
  }
 },
 "nbformat": 4,
 "nbformat_minor": 5
}
