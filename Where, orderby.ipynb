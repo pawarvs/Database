{
 "cells": [
  {
   "cell_type": "code",
   "execution_count": null,
   "id": "7f80fdc5",
   "metadata": {},
   "outputs": [],
   "source": []
  },
  {
   "cell_type": "code",
   "execution_count": 1,
   "id": "3a9bbb3a",
   "metadata": {},
   "outputs": [
    {
     "name": "stdout",
     "output_type": "stream",
     "text": [
      "[(1, 'Vishal', 'Watapur,Newasa', None)]\n"
     ]
    }
   ],
   "source": [
    "import mysql.connector as connection\n",
    "mydb = connection.connect(host = \"localhost\",database = 'mydatabase',user = \"root\",passwd = \"Vishal@9850\",use_pure = True )\n",
    "cursor = mydb.cursor()\n",
    "cursor.execute(\"select * from customer where address = 'Watapur,Newasa' \")\n",
    "res = cursor.fetchall()\n",
    "print(res)\n"
   ]
  },
  {
   "cell_type": "code",
   "execution_count": 2,
   "id": "ae1fa0e3",
   "metadata": {},
   "outputs": [
    {
     "name": "stdout",
     "output_type": "stream",
     "text": [
      "[(12, 'Susan', 'One way 98', None)]\n"
     ]
    }
   ],
   "source": [
    "mydb.commit()\n",
    "cur = mydb.cursor()\n",
    "cur.execute(\"select * from customer where address like '%way%' \")\n",
    "result = cur.fetchall()\n",
    "print(result)"
   ]
  },
  {
   "cell_type": "code",
   "execution_count": 3,
   "id": "297740fa",
   "metadata": {},
   "outputs": [],
   "source": [
    "mydb.commit()\n",
    "cur1 = mydb.cursor()\n",
    "cur1.execute(\" select * from customer where address like '%r' \")\n",
    "res1 = cur1.fetchall()\n",
    "#print(res1)\n",
    "for i in res1 :\n",
    "    print(i)"
   ]
  },
  {
   "cell_type": "code",
   "execution_count": 4,
   "id": "a7b5f7d1",
   "metadata": {},
   "outputs": [
    {
     "name": "stdout",
     "output_type": "stream",
     "text": [
      "[(11, 'Richard', 'Sky st 331', None)]\n"
     ]
    }
   ],
   "source": [
    "mydb.commit()\n",
    "cur2 = mydb.cursor()\n",
    "cur2.execute(\" select * from customer where address like 's%'\")\n",
    "res = cur2.fetchall()\n",
    "print(res)"
   ]
  },
  {
   "cell_type": "markdown",
   "id": "1af8bada",
   "metadata": {},
   "source": [
    "#### ORDER BY"
   ]
  },
  {
   "cell_type": "code",
   "execution_count": 5,
   "id": "3ebbb331",
   "metadata": {},
   "outputs": [],
   "source": [
    "import pandas as pd"
   ]
  },
  {
   "cell_type": "code",
   "execution_count": 6,
   "id": "fbc448b6",
   "metadata": {},
   "outputs": [
    {
     "data": {
      "text/html": [
       "<div>\n",
       "<style scoped>\n",
       "    .dataframe tbody tr th:only-of-type {\n",
       "        vertical-align: middle;\n",
       "    }\n",
       "\n",
       "    .dataframe tbody tr th {\n",
       "        vertical-align: top;\n",
       "    }\n",
       "\n",
       "    .dataframe thead th {\n",
       "        text-align: right;\n",
       "    }\n",
       "</style>\n",
       "<table border=\"1\" class=\"dataframe\">\n",
       "  <thead>\n",
       "    <tr style=\"text-align: right;\">\n",
       "      <th></th>\n",
       "      <th>id</th>\n",
       "      <th>name</th>\n",
       "      <th>address</th>\n",
       "      <th>country</th>\n",
       "    </tr>\n",
       "  </thead>\n",
       "  <tbody>\n",
       "    <tr>\n",
       "      <th>0</th>\n",
       "      <td>6</td>\n",
       "      <td>Amy</td>\n",
       "      <td>Apple st 652</td>\n",
       "      <td>None</td>\n",
       "    </tr>\n",
       "    <tr>\n",
       "      <th>1</th>\n",
       "      <td>10</td>\n",
       "      <td>Betty</td>\n",
       "      <td>Green Grass 1</td>\n",
       "      <td>None</td>\n",
       "    </tr>\n",
       "    <tr>\n",
       "      <th>2</th>\n",
       "      <td>7</td>\n",
       "      <td>Hannah</td>\n",
       "      <td>Mountain 21</td>\n",
       "      <td>None</td>\n",
       "    </tr>\n",
       "    <tr>\n",
       "      <th>3</th>\n",
       "      <td>8</td>\n",
       "      <td>Michael</td>\n",
       "      <td>Valley 345</td>\n",
       "      <td>None</td>\n",
       "    </tr>\n",
       "    <tr>\n",
       "      <th>4</th>\n",
       "      <td>5</td>\n",
       "      <td>Peter</td>\n",
       "      <td>Lowstreet 4</td>\n",
       "      <td>None</td>\n",
       "    </tr>\n",
       "    <tr>\n",
       "      <th>5</th>\n",
       "      <td>2</td>\n",
       "      <td>Radhika</td>\n",
       "      <td>Pachegoan</td>\n",
       "      <td>None</td>\n",
       "    </tr>\n",
       "    <tr>\n",
       "      <th>6</th>\n",
       "      <td>4</td>\n",
       "      <td>Raj</td>\n",
       "      <td>Nashik</td>\n",
       "      <td>None</td>\n",
       "    </tr>\n",
       "    <tr>\n",
       "      <th>7</th>\n",
       "      <td>11</td>\n",
       "      <td>Richard</td>\n",
       "      <td>Sky st 331</td>\n",
       "      <td>None</td>\n",
       "    </tr>\n",
       "    <tr>\n",
       "      <th>8</th>\n",
       "      <td>14</td>\n",
       "      <td>Ro</td>\n",
       "      <td>Nashik-02</td>\n",
       "      <td>None</td>\n",
       "    </tr>\n",
       "    <tr>\n",
       "      <th>9</th>\n",
       "      <td>9</td>\n",
       "      <td>Sandy</td>\n",
       "      <td>Ocean blvd 2</td>\n",
       "      <td>None</td>\n",
       "    </tr>\n",
       "    <tr>\n",
       "      <th>10</th>\n",
       "      <td>12</td>\n",
       "      <td>Susan</td>\n",
       "      <td>One way 98</td>\n",
       "      <td>None</td>\n",
       "    </tr>\n",
       "    <tr>\n",
       "      <th>11</th>\n",
       "      <td>13</td>\n",
       "      <td>Vicky</td>\n",
       "      <td>Yellow Garden 2</td>\n",
       "      <td>None</td>\n",
       "    </tr>\n",
       "    <tr>\n",
       "      <th>12</th>\n",
       "      <td>16</td>\n",
       "      <td>Viky</td>\n",
       "      <td></td>\n",
       "      <td>None</td>\n",
       "    </tr>\n",
       "    <tr>\n",
       "      <th>13</th>\n",
       "      <td>1</td>\n",
       "      <td>Vishal</td>\n",
       "      <td>Watapur,Newasa</td>\n",
       "      <td>None</td>\n",
       "    </tr>\n",
       "  </tbody>\n",
       "</table>\n",
       "</div>"
      ],
      "text/plain": [
       "    id     name          address country\n",
       "0    6      Amy     Apple st 652    None\n",
       "1   10    Betty    Green Grass 1    None\n",
       "2    7   Hannah      Mountain 21    None\n",
       "3    8  Michael       Valley 345    None\n",
       "4    5    Peter      Lowstreet 4    None\n",
       "5    2  Radhika        Pachegoan    None\n",
       "6    4      Raj           Nashik    None\n",
       "7   11  Richard       Sky st 331    None\n",
       "8   14       Ro        Nashik-02    None\n",
       "9    9    Sandy     Ocean blvd 2    None\n",
       "10  12    Susan       One way 98    None\n",
       "11  13    Vicky  Yellow Garden 2    None\n",
       "12  16     Viky                     None\n",
       "13   1   Vishal   Watapur,Newasa    None"
      ]
     },
     "execution_count": 6,
     "metadata": {},
     "output_type": "execute_result"
    }
   ],
   "source": [
    "mydb = connection.connect(host = \"localhost\",database = 'mydatabase',user = \"root\",passwd = \"Vishal@9850\",use_pure = True )\n",
    "cursor = mydb.cursor()\n",
    "a = pd.read_sql(\"select * from customer order by name ASC\",mydb)\n",
    "a\n"
   ]
  },
  {
   "cell_type": "markdown",
   "id": "db12e4f9",
   "metadata": {},
   "source": [
    "#### Delete"
   ]
  },
  {
   "cell_type": "code",
   "execution_count": 7,
   "id": "a37a61d9",
   "metadata": {},
   "outputs": [
    {
     "data": {
      "text/plain": [
       "[]"
      ]
     },
     "execution_count": 7,
     "metadata": {},
     "output_type": "execute_result"
    }
   ],
   "source": [
    "mydb.commit()\n",
    "cur1 = mydb.cursor()\n",
    "cur1.execute(\" delete from customer where address = 'Rahuri' \")\n",
    "cur1.fetchall()"
   ]
  },
  {
   "cell_type": "code",
   "execution_count": 8,
   "id": "34d3c62e",
   "metadata": {},
   "outputs": [
    {
     "name": "stdout",
     "output_type": "stream",
     "text": [
      "0 record deleted\n"
     ]
    }
   ],
   "source": [
    "print(cur1.rowcount,\"record deleted\")"
   ]
  },
  {
   "cell_type": "markdown",
   "id": "85ae7707",
   "metadata": {},
   "source": [
    "####  UPDATE"
   ]
  },
  {
   "cell_type": "code",
   "execution_count": 9,
   "id": "8f4f3922",
   "metadata": {},
   "outputs": [],
   "source": [
    "mydb.commit()\n",
    "cur2 = mydb.cursor()\n",
    "cur2.execute(\"update customer set address = 'Watapur,Newasa' where address = 'Ahmednagar' \")"
   ]
  },
  {
   "cell_type": "code",
   "execution_count": 10,
   "id": "65b886dc",
   "metadata": {},
   "outputs": [],
   "source": [
    "mydb.commit()"
   ]
  },
  {
   "cell_type": "code",
   "execution_count": 11,
   "id": "7c327d5d",
   "metadata": {},
   "outputs": [
    {
     "name": "stdout",
     "output_type": "stream",
     "text": [
      "One record updated has ID :  0\n"
     ]
    }
   ],
   "source": [
    "print(\"One record updated has ID : \", cur2.lastrowid)"
   ]
  },
  {
   "cell_type": "code",
   "execution_count": 12,
   "id": "a623a3e9",
   "metadata": {},
   "outputs": [],
   "source": [
    "mydb.commit()"
   ]
  },
  {
   "cell_type": "markdown",
   "id": "52b8b4e9",
   "metadata": {},
   "source": [
    "#### LIMIT AND OFFSET"
   ]
  },
  {
   "cell_type": "code",
   "execution_count": 13,
   "id": "527ee354",
   "metadata": {},
   "outputs": [
    {
     "data": {
      "text/html": [
       "<div>\n",
       "<style scoped>\n",
       "    .dataframe tbody tr th:only-of-type {\n",
       "        vertical-align: middle;\n",
       "    }\n",
       "\n",
       "    .dataframe tbody tr th {\n",
       "        vertical-align: top;\n",
       "    }\n",
       "\n",
       "    .dataframe thead th {\n",
       "        text-align: right;\n",
       "    }\n",
       "</style>\n",
       "<table border=\"1\" class=\"dataframe\">\n",
       "  <thead>\n",
       "    <tr style=\"text-align: right;\">\n",
       "      <th></th>\n",
       "      <th>name</th>\n",
       "      <th>address</th>\n",
       "    </tr>\n",
       "  </thead>\n",
       "  <tbody>\n",
       "    <tr>\n",
       "      <th>0</th>\n",
       "      <td>Vishal</td>\n",
       "      <td>Watapur,Newasa</td>\n",
       "    </tr>\n",
       "    <tr>\n",
       "      <th>1</th>\n",
       "      <td>Radhika</td>\n",
       "      <td>Pachegoan</td>\n",
       "    </tr>\n",
       "    <tr>\n",
       "      <th>2</th>\n",
       "      <td>Raj</td>\n",
       "      <td>Nashik</td>\n",
       "    </tr>\n",
       "    <tr>\n",
       "      <th>3</th>\n",
       "      <td>Peter</td>\n",
       "      <td>Lowstreet 4</td>\n",
       "    </tr>\n",
       "    <tr>\n",
       "      <th>4</th>\n",
       "      <td>Amy</td>\n",
       "      <td>Apple st 652</td>\n",
       "    </tr>\n",
       "  </tbody>\n",
       "</table>\n",
       "</div>"
      ],
      "text/plain": [
       "      name         address\n",
       "0   Vishal  Watapur,Newasa\n",
       "1  Radhika       Pachegoan\n",
       "2      Raj          Nashik\n",
       "3    Peter     Lowstreet 4\n",
       "4      Amy    Apple st 652"
      ]
     },
     "execution_count": 13,
     "metadata": {},
     "output_type": "execute_result"
    }
   ],
   "source": [
    "cur3 = mydb.cursor()\n",
    "a = pd.read_sql(\"select name,address from customer limit 5\",mydb)\n",
    "a"
   ]
  },
  {
   "cell_type": "code",
   "execution_count": 14,
   "id": "ec570501",
   "metadata": {},
   "outputs": [
    {
     "data": {
      "text/html": [
       "<div>\n",
       "<style scoped>\n",
       "    .dataframe tbody tr th:only-of-type {\n",
       "        vertical-align: middle;\n",
       "    }\n",
       "\n",
       "    .dataframe tbody tr th {\n",
       "        vertical-align: top;\n",
       "    }\n",
       "\n",
       "    .dataframe thead th {\n",
       "        text-align: right;\n",
       "    }\n",
       "</style>\n",
       "<table border=\"1\" class=\"dataframe\">\n",
       "  <thead>\n",
       "    <tr style=\"text-align: right;\">\n",
       "      <th></th>\n",
       "      <th>name</th>\n",
       "      <th>address</th>\n",
       "    </tr>\n",
       "  </thead>\n",
       "  <tbody>\n",
       "    <tr>\n",
       "      <th>0</th>\n",
       "      <td>Peter</td>\n",
       "      <td>Lowstreet 4</td>\n",
       "    </tr>\n",
       "    <tr>\n",
       "      <th>1</th>\n",
       "      <td>Amy</td>\n",
       "      <td>Apple st 652</td>\n",
       "    </tr>\n",
       "    <tr>\n",
       "      <th>2</th>\n",
       "      <td>Hannah</td>\n",
       "      <td>Mountain 21</td>\n",
       "    </tr>\n",
       "    <tr>\n",
       "      <th>3</th>\n",
       "      <td>Michael</td>\n",
       "      <td>Valley 345</td>\n",
       "    </tr>\n",
       "    <tr>\n",
       "      <th>4</th>\n",
       "      <td>Sandy</td>\n",
       "      <td>Ocean blvd 2</td>\n",
       "    </tr>\n",
       "  </tbody>\n",
       "</table>\n",
       "</div>"
      ],
      "text/plain": [
       "      name       address\n",
       "0    Peter   Lowstreet 4\n",
       "1      Amy  Apple st 652\n",
       "2   Hannah   Mountain 21\n",
       "3  Michael    Valley 345\n",
       "4    Sandy  Ocean blvd 2"
      ]
     },
     "execution_count": 14,
     "metadata": {},
     "output_type": "execute_result"
    }
   ],
   "source": [
    "b = pd.read_sql(\"select name,address from customer limit 5 offset 3\",mydb)\n",
    "b"
   ]
  }
 ],
 "metadata": {
  "kernelspec": {
   "display_name": "Python 3 (ipykernel)",
   "language": "python",
   "name": "python3"
  },
  "language_info": {
   "codemirror_mode": {
    "name": "ipython",
    "version": 3
   },
   "file_extension": ".py",
   "mimetype": "text/x-python",
   "name": "python",
   "nbconvert_exporter": "python",
   "pygments_lexer": "ipython3",
   "version": "3.9.7"
  }
 },
 "nbformat": 4,
 "nbformat_minor": 5
}
