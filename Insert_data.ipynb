{
 "cells": [
  {
   "cell_type": "code",
   "execution_count": 3,
   "id": "e23e3d75",
   "metadata": {},
   "outputs": [
    {
     "name": "stdout",
     "output_type": "stream",
     "text": [
      "[]\n",
      "4 Records inserted.\n"
     ]
    }
   ],
   "source": [
    "import mysql.connector as connection\n",
    "\n",
    "\n",
    "mydb = connection.connect(host = \"localhost\",database = 'mydatabase',user = \"root\",passwd = \"Vishal@9850\",use_pure = True )\n",
    "\n",
    "    #check if the connection is established\n",
    "\n",
    "query = 'insert into customer(name, address) values (\"Vishal\",\"Ahmednagar\"),(\"Radhika\",\"Pachegoan\"),(\"Dipak\",\"Rahuri\"),(\"Raj\",\"Nashik\") '\n",
    "cursor = mydb.cursor()\n",
    "cursor.execute(query)\n",
    "print(cursor.fetchall())\n",
    "\n",
    "print(cursor.rowcount,\"Records inserted.\")"
   ]
  },
  {
   "cell_type": "code",
   "execution_count": 4,
   "id": "a0edf37f",
   "metadata": {},
   "outputs": [],
   "source": [
    "mydb.commit()"
   ]
  },
  {
   "cell_type": "code",
   "execution_count": 7,
   "id": "d0b94b48",
   "metadata": {},
   "outputs": [
    {
     "name": "stdout",
     "output_type": "stream",
     "text": [
      "[]\n",
      "9  records inserted\n"
     ]
    }
   ],
   "source": [
    "query = \" insert into customer(name, address) values ('Peter', 'Lowstreet 4'), ('Amy', 'Apple st 652'), ('Hannah', 'Mountain 21'),('Michael', 'Valley 345'), ('Sandy', 'Ocean blvd 2'), ('Betty', 'Green Grass 1'), ('Richard', 'Sky st 331'), ('Susan', 'One way 98'), ('Vicky', 'Yellow Garden 2') \"\n",
    "\n",
    "cur1 = mydb.cursor()\n",
    "cur1.execute(query)\n",
    "\n",
    "print(cur1.fetchall())\n",
    "\n",
    "print(cur1.rowcount, \" records inserted\")"
   ]
  },
  {
   "cell_type": "code",
   "execution_count": 9,
   "id": "4fc70e5a",
   "metadata": {},
   "outputs": [
    {
     "name": "stdout",
     "output_type": "stream",
     "text": [
      "[]\n",
      "last record inserted has id :  15\n"
     ]
    }
   ],
   "source": [
    "mydb.commit()\n",
    "cur2 = mydb.cursor()\n",
    "cur2.execute(\" insert into customer(name, address) values ('Ro','Nashik-02') \")\n",
    "print(cur2.fetchall())\n",
    "print(\"last record inserted has id : \",cur2.lastrowid)"
   ]
  },
  {
   "cell_type": "code",
   "execution_count": 11,
   "id": "e535c196",
   "metadata": {},
   "outputs": [],
   "source": [
    "mydb = connection.connect(host = \"localhost\",database = 'mydatabase',user = \"root\",passwd = \"Vishal@9850\",use_pure = True )\n",
    "mycur = mydb.cursor()\n"
   ]
  },
  {
   "cell_type": "markdown",
   "id": "e79093e1",
   "metadata": {},
   "source": [
    "To check the inserted data, we use select command in sql"
   ]
  },
  {
   "cell_type": "code",
   "execution_count": 12,
   "id": "a0ac20a7",
   "metadata": {},
   "outputs": [],
   "source": [
    "import pandas as pd"
   ]
  },
  {
   "cell_type": "code",
   "execution_count": 14,
   "id": "b61de81d",
   "metadata": {},
   "outputs": [
    {
     "data": {
      "text/html": [
       "<div>\n",
       "<style scoped>\n",
       "    .dataframe tbody tr th:only-of-type {\n",
       "        vertical-align: middle;\n",
       "    }\n",
       "\n",
       "    .dataframe tbody tr th {\n",
       "        vertical-align: top;\n",
       "    }\n",
       "\n",
       "    .dataframe thead th {\n",
       "        text-align: right;\n",
       "    }\n",
       "</style>\n",
       "<table border=\"1\" class=\"dataframe\">\n",
       "  <thead>\n",
       "    <tr style=\"text-align: right;\">\n",
       "      <th></th>\n",
       "      <th>id</th>\n",
       "      <th>name</th>\n",
       "      <th>address</th>\n",
       "    </tr>\n",
       "  </thead>\n",
       "  <tbody>\n",
       "    <tr>\n",
       "      <th>0</th>\n",
       "      <td>1</td>\n",
       "      <td>Vishal</td>\n",
       "      <td>Ahmednagar</td>\n",
       "    </tr>\n",
       "    <tr>\n",
       "      <th>1</th>\n",
       "      <td>2</td>\n",
       "      <td>Radhika</td>\n",
       "      <td>Pachegoan</td>\n",
       "    </tr>\n",
       "    <tr>\n",
       "      <th>2</th>\n",
       "      <td>3</td>\n",
       "      <td>Dipak</td>\n",
       "      <td>Rahuri</td>\n",
       "    </tr>\n",
       "    <tr>\n",
       "      <th>3</th>\n",
       "      <td>4</td>\n",
       "      <td>Raj</td>\n",
       "      <td>Nashik</td>\n",
       "    </tr>\n",
       "    <tr>\n",
       "      <th>4</th>\n",
       "      <td>5</td>\n",
       "      <td>Peter</td>\n",
       "      <td>Lowstreet 4</td>\n",
       "    </tr>\n",
       "    <tr>\n",
       "      <th>5</th>\n",
       "      <td>6</td>\n",
       "      <td>Amy</td>\n",
       "      <td>Apple st 652</td>\n",
       "    </tr>\n",
       "    <tr>\n",
       "      <th>6</th>\n",
       "      <td>7</td>\n",
       "      <td>Hannah</td>\n",
       "      <td>Mountain 21</td>\n",
       "    </tr>\n",
       "    <tr>\n",
       "      <th>7</th>\n",
       "      <td>8</td>\n",
       "      <td>Michael</td>\n",
       "      <td>Valley 345</td>\n",
       "    </tr>\n",
       "    <tr>\n",
       "      <th>8</th>\n",
       "      <td>9</td>\n",
       "      <td>Sandy</td>\n",
       "      <td>Ocean blvd 2</td>\n",
       "    </tr>\n",
       "    <tr>\n",
       "      <th>9</th>\n",
       "      <td>10</td>\n",
       "      <td>Betty</td>\n",
       "      <td>Green Grass 1</td>\n",
       "    </tr>\n",
       "    <tr>\n",
       "      <th>10</th>\n",
       "      <td>11</td>\n",
       "      <td>Richard</td>\n",
       "      <td>Sky st 331</td>\n",
       "    </tr>\n",
       "    <tr>\n",
       "      <th>11</th>\n",
       "      <td>12</td>\n",
       "      <td>Susan</td>\n",
       "      <td>One way 98</td>\n",
       "    </tr>\n",
       "    <tr>\n",
       "      <th>12</th>\n",
       "      <td>13</td>\n",
       "      <td>Vicky</td>\n",
       "      <td>Yellow Garden 2</td>\n",
       "    </tr>\n",
       "    <tr>\n",
       "      <th>13</th>\n",
       "      <td>14</td>\n",
       "      <td>Ro</td>\n",
       "      <td>Nashik-02</td>\n",
       "    </tr>\n",
       "  </tbody>\n",
       "</table>\n",
       "</div>"
      ],
      "text/plain": [
       "    id     name          address\n",
       "0    1   Vishal       Ahmednagar\n",
       "1    2  Radhika        Pachegoan\n",
       "2    3    Dipak           Rahuri\n",
       "3    4      Raj           Nashik\n",
       "4    5    Peter      Lowstreet 4\n",
       "5    6      Amy     Apple st 652\n",
       "6    7   Hannah      Mountain 21\n",
       "7    8  Michael       Valley 345\n",
       "8    9    Sandy     Ocean blvd 2\n",
       "9   10    Betty    Green Grass 1\n",
       "10  11  Richard       Sky st 331\n",
       "11  12    Susan       One way 98\n",
       "12  13    Vicky  Yellow Garden 2\n",
       "13  14       Ro        Nashik-02"
      ]
     },
     "execution_count": 14,
     "metadata": {},
     "output_type": "execute_result"
    }
   ],
   "source": [
    "a = pd.read_sql(\"select * from customer\",mydb)\n",
    "a"
   ]
  },
  {
   "cell_type": "code",
   "execution_count": 18,
   "id": "ac698778",
   "metadata": {},
   "outputs": [
    {
     "name": "stdout",
     "output_type": "stream",
     "text": [
      "(1, 'Vishal', 'Ahmednagar')\n",
      "(2, 'Radhika', 'Pachegoan')\n",
      "(3, 'Dipak', 'Rahuri')\n",
      "(4, 'Raj', 'Nashik')\n",
      "(5, 'Peter', 'Lowstreet 4')\n",
      "(6, 'Amy', 'Apple st 652')\n",
      "(7, 'Hannah', 'Mountain 21')\n",
      "(8, 'Michael', 'Valley 345')\n",
      "(9, 'Sandy', 'Ocean blvd 2')\n",
      "(10, 'Betty', 'Green Grass 1')\n",
      "(11, 'Richard', 'Sky st 331')\n",
      "(12, 'Susan', 'One way 98')\n",
      "(13, 'Vicky', 'Yellow Garden 2')\n",
      "(14, 'Ro', 'Nashik-02')\n"
     ]
    }
   ],
   "source": [
    "mycur.execute(\"select * from customer\")\n",
    "res = mycur.fetchall()\n",
    "\n",
    "for i in res :\n",
    "    print(i)"
   ]
  },
  {
   "cell_type": "markdown",
   "id": "32737b0d",
   "metadata": {},
   "source": [
    "To fetch only 1 observation at a time, we use fetchone option."
   ]
  },
  {
   "cell_type": "code",
   "execution_count": 20,
   "id": "dd6a69ae",
   "metadata": {},
   "outputs": [
    {
     "name": "stdout",
     "output_type": "stream",
     "text": [
      "(1, 'Vishal', 'Ahmednagar')\n"
     ]
    }
   ],
   "source": [
    "mydb.commit()\n",
    "a = mydb.cursor()\n",
    "a.execute(\"select * from customer\")\n",
    "result = a.fetchone()\n",
    "print(result)"
   ]
  },
  {
   "cell_type": "code",
   "execution_count": null,
   "id": "6ab257a6",
   "metadata": {},
   "outputs": [],
   "source": []
  }
 ],
 "metadata": {
  "kernelspec": {
   "display_name": "Python 3 (ipykernel)",
   "language": "python",
   "name": "python3"
  },
  "language_info": {
   "codemirror_mode": {
    "name": "ipython",
    "version": 3
   },
   "file_extension": ".py",
   "mimetype": "text/x-python",
   "name": "python",
   "nbconvert_exporter": "python",
   "pygments_lexer": "ipython3",
   "version": "3.9.7"
  }
 },
 "nbformat": 4,
 "nbformat_minor": 5
}
